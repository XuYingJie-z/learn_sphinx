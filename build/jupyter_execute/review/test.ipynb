{
 "cells": [
  {
   "cell_type": "markdown",
   "id": "3f76a2f4",
   "metadata": {},
   "source": [
    "# 测试一些块\n",
    "\n",
    "\n",
    "测试一些块\n",
    "\n",
    "```{acks}\n",
    "acks\n",
    "```\n",
    "\n",
    "```{admonition}\n",
    "admonition\n",
    "```\n",
    "\n",
    "```{attention}\n",
    "attention\n",
    "```\n",
    "\n",
    "```{bibliography}\n",
    "bibliography\n",
    "```\n",
    "\n",
    "```{caution}\n",
    "caution\n",
    "```\n",
    "\n",
    "```{centered}\n",
    "centered\n",
    "```\n",
    "\n",
    "```{class}\n",
    "class\n",
    "```\n",
    "\n",
    "\n",
    "```{code}\n",
    "code\n",
    "```\n",
    "\n",
    "```{highlight}\n",
    "highlight\n",
    "```"
   ]
  }
 ],
 "metadata": {
  "file_format": "mystnb",
  "source_map": [
   3
  ]
 },
 "nbformat": 4,
 "nbformat_minor": 5
}